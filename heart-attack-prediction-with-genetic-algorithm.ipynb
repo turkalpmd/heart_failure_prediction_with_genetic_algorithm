{
 "cells": [
  {
   "cell_type": "code",
   "execution_count": 1,
   "id": "7ada3414",
   "metadata": {
    "_cell_guid": "b1076dfc-b9ad-4769-8c92-a6c4dae69d19",
    "_uuid": "8f2839f25d086af736a60e9eeb907d3b93b6e0e5",
    "collapsed": true,
    "execution": {
     "iopub.execute_input": "2022-07-20T23:43:36.747792Z",
     "iopub.status.busy": "2022-07-20T23:43:36.747354Z",
     "iopub.status.idle": "2022-07-20T23:43:59.333987Z",
     "shell.execute_reply": "2022-07-20T23:43:59.332602Z"
    },
    "jupyter": {
     "outputs_hidden": true
    },
    "papermill": {
     "duration": 22.596218,
     "end_time": "2022-07-20T23:43:59.336831",
     "exception": false,
     "start_time": "2022-07-20T23:43:36.740613",
     "status": "completed"
    },
    "tags": []
   },
   "outputs": [
    {
     "name": "stdout",
     "output_type": "stream",
     "text": [
      "Collecting pygad\r\n",
      "  Downloading pygad-2.17.0-py3-none-any.whl (55 kB)\r\n",
      "\u001b[2K     \u001b[90m━━━━━━━━━━━━━━━━━━━━━━━━━━━━━━━━━━━━━━━━\u001b[0m \u001b[32m55.2/55.2 kB\u001b[0m \u001b[31m2.0 MB/s\u001b[0m eta \u001b[36m0:00:00\u001b[0m\r\n",
      "\u001b[?25hRequirement already satisfied: matplotlib in /opt/conda/lib/python3.7/site-packages (from pygad) (3.5.2)\r\n",
      "Requirement already satisfied: numpy in /opt/conda/lib/python3.7/site-packages (from pygad) (1.21.6)\r\n",
      "Requirement already satisfied: pillow>=6.2.0 in /opt/conda/lib/python3.7/site-packages (from matplotlib->pygad) (9.1.1)\r\n",
      "Requirement already satisfied: fonttools>=4.22.0 in /opt/conda/lib/python3.7/site-packages (from matplotlib->pygad) (4.33.3)\r\n",
      "Requirement already satisfied: cycler>=0.10 in /opt/conda/lib/python3.7/site-packages (from matplotlib->pygad) (0.11.0)\r\n",
      "Requirement already satisfied: packaging>=20.0 in /opt/conda/lib/python3.7/site-packages (from matplotlib->pygad) (21.3)\r\n",
      "Requirement already satisfied: kiwisolver>=1.0.1 in /opt/conda/lib/python3.7/site-packages (from matplotlib->pygad) (1.4.2)\r\n",
      "Requirement already satisfied: python-dateutil>=2.7 in /opt/conda/lib/python3.7/site-packages (from matplotlib->pygad) (2.8.2)\r\n",
      "Requirement already satisfied: pyparsing>=2.2.1 in /opt/conda/lib/python3.7/site-packages (from matplotlib->pygad) (3.0.9)\r\n",
      "Requirement already satisfied: typing-extensions in /opt/conda/lib/python3.7/site-packages (from kiwisolver>=1.0.1->matplotlib->pygad) (4.1.1)\r\n",
      "Requirement already satisfied: six>=1.5 in /opt/conda/lib/python3.7/site-packages (from python-dateutil>=2.7->matplotlib->pygad) (1.16.0)\r\n",
      "Installing collected packages: pygad\r\n",
      "Successfully installed pygad-2.17.0\r\n",
      "\u001b[33mWARNING: Running pip as the 'root' user can result in broken permissions and conflicting behaviour with the system package manager. It is recommended to use a virtual environment instead: https://pip.pypa.io/warnings/venv\u001b[0m\u001b[33m\r\n",
      "\u001b[0mCollecting mplcyberpunk\r\n",
      "  Downloading mplcyberpunk-0.5.2-py3-none-any.whl (5.0 kB)\r\n",
      "Requirement already satisfied: matplotlib in /opt/conda/lib/python3.7/site-packages (from mplcyberpunk) (3.5.2)\r\n",
      "Requirement already satisfied: cycler>=0.10 in /opt/conda/lib/python3.7/site-packages (from matplotlib->mplcyberpunk) (0.11.0)\r\n",
      "Requirement already satisfied: fonttools>=4.22.0 in /opt/conda/lib/python3.7/site-packages (from matplotlib->mplcyberpunk) (4.33.3)\r\n",
      "Requirement already satisfied: packaging>=20.0 in /opt/conda/lib/python3.7/site-packages (from matplotlib->mplcyberpunk) (21.3)\r\n",
      "Requirement already satisfied: pyparsing>=2.2.1 in /opt/conda/lib/python3.7/site-packages (from matplotlib->mplcyberpunk) (3.0.9)\r\n",
      "Requirement already satisfied: numpy>=1.17 in /opt/conda/lib/python3.7/site-packages (from matplotlib->mplcyberpunk) (1.21.6)\r\n",
      "Requirement already satisfied: kiwisolver>=1.0.1 in /opt/conda/lib/python3.7/site-packages (from matplotlib->mplcyberpunk) (1.4.2)\r\n",
      "Requirement already satisfied: python-dateutil>=2.7 in /opt/conda/lib/python3.7/site-packages (from matplotlib->mplcyberpunk) (2.8.2)\r\n",
      "Requirement already satisfied: pillow>=6.2.0 in /opt/conda/lib/python3.7/site-packages (from matplotlib->mplcyberpunk) (9.1.1)\r\n",
      "Requirement already satisfied: typing-extensions in /opt/conda/lib/python3.7/site-packages (from kiwisolver>=1.0.1->matplotlib->mplcyberpunk) (4.1.1)\r\n",
      "Requirement already satisfied: six>=1.5 in /opt/conda/lib/python3.7/site-packages (from python-dateutil>=2.7->matplotlib->mplcyberpunk) (1.16.0)\r\n",
      "Installing collected packages: mplcyberpunk\r\n",
      "Successfully installed mplcyberpunk-0.5.2\r\n",
      "\u001b[33mWARNING: Running pip as the 'root' user can result in broken permissions and conflicting behaviour with the system package manager. It is recommended to use a virtual environment instead: https://pip.pypa.io/warnings/venv\u001b[0m\u001b[33m\r\n",
      "\u001b[0m"
     ]
    }
   ],
   "source": [
    "# Required libraries\n",
    "# sldkfs\n",
    "import pandas as pd\n",
    "import numpy as np\n",
    "import matplotlib.pyplot as plt\n",
    "import seaborn as sns\n",
    "!pip install pygad\n",
    "!pip install mplcyberpunk\n",
    "import pygad\n",
    "import numpy\n",
    "import pygad\n",
    "import pygad.nn\n",
    "import pygad.gann\n",
    "from sklearn.model_selection import train_test_split\n",
    "from sklearn.metrics import accuracy_score\n",
    "from sklearn.metrics import recall_score, confusion_matrix, precision_score, f1_score, classification_report, roc_auc_score\n",
    "from sklearn.preprocessing import StandardScaler"
   ]
  },
  {
   "cell_type": "code",
   "execution_count": 2,
   "id": "393d5aee",
   "metadata": {
    "execution": {
     "iopub.execute_input": "2022-07-20T23:43:59.349046Z",
     "iopub.status.busy": "2022-07-20T23:43:59.348183Z",
     "iopub.status.idle": "2022-07-20T23:43:59.386063Z",
     "shell.execute_reply": "2022-07-20T23:43:59.385297Z"
    },
    "papermill": {
     "duration": 0.045995,
     "end_time": "2022-07-20T23:43:59.387952",
     "exception": false,
     "start_time": "2022-07-20T23:43:59.341957",
     "status": "completed"
    },
    "tags": []
   },
   "outputs": [
    {
     "data": {
      "text/html": [
       "<div>\n",
       "<style scoped>\n",
       "    .dataframe tbody tr th:only-of-type {\n",
       "        vertical-align: middle;\n",
       "    }\n",
       "\n",
       "    .dataframe tbody tr th {\n",
       "        vertical-align: top;\n",
       "    }\n",
       "\n",
       "    .dataframe thead th {\n",
       "        text-align: right;\n",
       "    }\n",
       "</style>\n",
       "<table border=\"1\" class=\"dataframe\">\n",
       "  <thead>\n",
       "    <tr style=\"text-align: right;\">\n",
       "      <th></th>\n",
       "      <th>age</th>\n",
       "      <th>sex</th>\n",
       "      <th>cp</th>\n",
       "      <th>trtbps</th>\n",
       "      <th>chol</th>\n",
       "      <th>fbs</th>\n",
       "      <th>restecg</th>\n",
       "      <th>thalachh</th>\n",
       "      <th>exng</th>\n",
       "      <th>oldpeak</th>\n",
       "      <th>slp</th>\n",
       "      <th>caa</th>\n",
       "      <th>thall</th>\n",
       "      <th>output</th>\n",
       "    </tr>\n",
       "  </thead>\n",
       "  <tbody>\n",
       "    <tr>\n",
       "      <th>0</th>\n",
       "      <td>63</td>\n",
       "      <td>1</td>\n",
       "      <td>3</td>\n",
       "      <td>145</td>\n",
       "      <td>233</td>\n",
       "      <td>1</td>\n",
       "      <td>0</td>\n",
       "      <td>150</td>\n",
       "      <td>0</td>\n",
       "      <td>2.3</td>\n",
       "      <td>0</td>\n",
       "      <td>0</td>\n",
       "      <td>1</td>\n",
       "      <td>1</td>\n",
       "    </tr>\n",
       "    <tr>\n",
       "      <th>1</th>\n",
       "      <td>37</td>\n",
       "      <td>1</td>\n",
       "      <td>2</td>\n",
       "      <td>130</td>\n",
       "      <td>250</td>\n",
       "      <td>0</td>\n",
       "      <td>1</td>\n",
       "      <td>187</td>\n",
       "      <td>0</td>\n",
       "      <td>3.5</td>\n",
       "      <td>0</td>\n",
       "      <td>0</td>\n",
       "      <td>2</td>\n",
       "      <td>1</td>\n",
       "    </tr>\n",
       "    <tr>\n",
       "      <th>2</th>\n",
       "      <td>41</td>\n",
       "      <td>0</td>\n",
       "      <td>1</td>\n",
       "      <td>130</td>\n",
       "      <td>204</td>\n",
       "      <td>0</td>\n",
       "      <td>0</td>\n",
       "      <td>172</td>\n",
       "      <td>0</td>\n",
       "      <td>1.4</td>\n",
       "      <td>2</td>\n",
       "      <td>0</td>\n",
       "      <td>2</td>\n",
       "      <td>1</td>\n",
       "    </tr>\n",
       "    <tr>\n",
       "      <th>3</th>\n",
       "      <td>56</td>\n",
       "      <td>1</td>\n",
       "      <td>1</td>\n",
       "      <td>120</td>\n",
       "      <td>236</td>\n",
       "      <td>0</td>\n",
       "      <td>1</td>\n",
       "      <td>178</td>\n",
       "      <td>0</td>\n",
       "      <td>0.8</td>\n",
       "      <td>2</td>\n",
       "      <td>0</td>\n",
       "      <td>2</td>\n",
       "      <td>1</td>\n",
       "    </tr>\n",
       "    <tr>\n",
       "      <th>4</th>\n",
       "      <td>57</td>\n",
       "      <td>0</td>\n",
       "      <td>0</td>\n",
       "      <td>120</td>\n",
       "      <td>354</td>\n",
       "      <td>0</td>\n",
       "      <td>1</td>\n",
       "      <td>163</td>\n",
       "      <td>1</td>\n",
       "      <td>0.6</td>\n",
       "      <td>2</td>\n",
       "      <td>0</td>\n",
       "      <td>2</td>\n",
       "      <td>1</td>\n",
       "    </tr>\n",
       "  </tbody>\n",
       "</table>\n",
       "</div>"
      ],
      "text/plain": [
       "   age  sex  cp  trtbps  chol  fbs  restecg  thalachh  exng  oldpeak  slp  \\\n",
       "0   63    1   3     145   233    1        0       150     0      2.3    0   \n",
       "1   37    1   2     130   250    0        1       187     0      3.5    0   \n",
       "2   41    0   1     130   204    0        0       172     0      1.4    2   \n",
       "3   56    1   1     120   236    0        1       178     0      0.8    2   \n",
       "4   57    0   0     120   354    0        1       163     1      0.6    2   \n",
       "\n",
       "   caa  thall  output  \n",
       "0    0      1       1  \n",
       "1    0      2       1  \n",
       "2    0      2       1  \n",
       "3    0      2       1  \n",
       "4    0      2       1  "
      ]
     },
     "execution_count": 2,
     "metadata": {},
     "output_type": "execute_result"
    }
   ],
   "source": [
    "df = pd.read_csv(\"../input/heart-attack-analysis-prediction-dataset/heart.csv\")\n",
    "df.head()"
   ]
  },
  {
   "cell_type": "markdown",
   "id": "119e87a4",
   "metadata": {
    "papermill": {
     "duration": 0.004518,
     "end_time": "2022-07-20T23:43:59.397463",
     "exception": false,
     "start_time": "2022-07-20T23:43:59.392945",
     "status": "completed"
    },
    "tags": []
   },
   "source": [
    "### I can say that my aim is the optimization of ANN with an alternative method to Keras. That's why I didn't bother with EDA. I think you can understand better if you review my tutorial on PyGAD.\n",
    "## [For tutorial](https://www.kaggle.com/zzettrkalpakbal/tutorial-of-pygad) "
   ]
  },
  {
   "cell_type": "code",
   "execution_count": 3,
   "id": "0557dfb9",
   "metadata": {
    "execution": {
     "iopub.execute_input": "2022-07-20T23:43:59.409048Z",
     "iopub.status.busy": "2022-07-20T23:43:59.408436Z",
     "iopub.status.idle": "2022-07-20T23:43:59.449234Z",
     "shell.execute_reply": "2022-07-20T23:43:59.447998Z"
    },
    "papermill": {
     "duration": 0.049514,
     "end_time": "2022-07-20T23:43:59.451760",
     "exception": false,
     "start_time": "2022-07-20T23:43:59.402246",
     "status": "completed"
    },
    "tags": []
   },
   "outputs": [
    {
     "name": "stdout",
     "output_type": "stream",
     "text": [
      "<class 'pandas.core.frame.DataFrame'>\n",
      "RangeIndex: 303 entries, 0 to 302\n",
      "Data columns (total 14 columns):\n",
      " #   Column    Non-Null Count  Dtype  \n",
      "---  ------    --------------  -----  \n",
      " 0   age       303 non-null    int64  \n",
      " 1   sex       303 non-null    int64  \n",
      " 2   cp        303 non-null    int64  \n",
      " 3   trtbps    303 non-null    int64  \n",
      " 4   chol      303 non-null    int64  \n",
      " 5   fbs       303 non-null    int64  \n",
      " 6   restecg   303 non-null    int64  \n",
      " 7   thalachh  303 non-null    int64  \n",
      " 8   exng      303 non-null    int64  \n",
      " 9   oldpeak   303 non-null    float64\n",
      " 10  slp       303 non-null    int64  \n",
      " 11  caa       303 non-null    int64  \n",
      " 12  thall     303 non-null    int64  \n",
      " 13  output    303 non-null    int64  \n",
      "dtypes: float64(1), int64(13)\n",
      "memory usage: 33.3 KB\n"
     ]
    }
   ],
   "source": [
    "df.info()"
   ]
  },
  {
   "cell_type": "code",
   "execution_count": 4,
   "id": "5092feaa",
   "metadata": {
    "execution": {
     "iopub.execute_input": "2022-07-20T23:43:59.464288Z",
     "iopub.status.busy": "2022-07-20T23:43:59.463279Z",
     "iopub.status.idle": "2022-07-20T23:43:59.485366Z",
     "shell.execute_reply": "2022-07-20T23:43:59.484343Z"
    },
    "papermill": {
     "duration": 0.03105,
     "end_time": "2022-07-20T23:43:59.487791",
     "exception": false,
     "start_time": "2022-07-20T23:43:59.456741",
     "status": "completed"
    },
    "tags": []
   },
   "outputs": [
    {
     "data": {
      "text/plain": [
       "((242, 13), (242,), (61, 13), (61,))"
      ]
     },
     "execution_count": 4,
     "metadata": {},
     "output_type": "execute_result"
    }
   ],
   "source": [
    "y = df.output\n",
    "X = df.drop(columns=\"output\")\n",
    "\n",
    "X_train, X_test, y_train, y_test = train_test_split(X,\n",
    "                                                    y,\n",
    "                                                    stratify = y,\n",
    "                                                    test_size = .2,\n",
    "                                                    random_state = 42)\n",
    "scaler = StandardScaler()\n",
    "scaler.fit(X_train)\n",
    "X_train = scaler.transform(X_train)\n",
    "X_test = scaler.transform(X_test)\n",
    "\n",
    "X_train.shape, y_train.shape, X_test.shape, y_test.shape"
   ]
  },
  {
   "cell_type": "code",
   "execution_count": 5,
   "id": "e0c6ef4c",
   "metadata": {
    "execution": {
     "iopub.execute_input": "2022-07-20T23:43:59.499885Z",
     "iopub.status.busy": "2022-07-20T23:43:59.499497Z",
     "iopub.status.idle": "2022-07-20T23:44:10.235669Z",
     "shell.execute_reply": "2022-07-20T23:44:10.234461Z"
    },
    "papermill": {
     "duration": 10.745489,
     "end_time": "2022-07-20T23:44:10.238412",
     "exception": false,
     "start_time": "2022-07-20T23:43:59.492923",
     "status": "completed"
    },
    "tags": []
   },
   "outputs": [],
   "source": [
    "# My keras tool-kit :D\n",
    "from keras.wrappers.scikit_learn import KerasClassifier\n",
    "from sklearn.model_selection import cross_val_score\n",
    "from keras.models import Sequential # initialize neural network library\n",
    "from keras.layers import Dense # build our layers library\n",
    "import tensorflow as tf\n",
    "from keras.layers import Activation\n",
    "from tensorflow.keras.models import Sequential\n",
    "from tensorflow.keras.layers import Conv2D\n",
    "from tensorflow.keras.layers import MaxPool2D\n",
    "from tensorflow.keras.layers import Flatten\n",
    "from tensorflow.keras.layers import Dense\n",
    "from tensorflow.keras.layers import Dropout\n",
    "from keras import callbacks\n",
    "from tensorflow.keras.optimizers import Adam, SGD, RMSprop, Adamax\n",
    "import random\n",
    "import mplcyberpunk\n",
    "def scheduler(epoch, learning_rate):\n",
    "    if epoch < 10:\n",
    "        return learning_rate\n",
    "    else:\n",
    "        return learning_rate * tf.math.exp(-0.1)"
   ]
  },
  {
   "cell_type": "code",
   "execution_count": 6,
   "id": "e2d32d6c",
   "metadata": {
    "execution": {
     "iopub.execute_input": "2022-07-20T23:44:10.251648Z",
     "iopub.status.busy": "2022-07-20T23:44:10.250908Z",
     "iopub.status.idle": "2022-07-20T23:44:14.737463Z",
     "shell.execute_reply": "2022-07-20T23:44:14.736600Z"
    },
    "papermill": {
     "duration": 4.49712,
     "end_time": "2022-07-20T23:44:14.741041",
     "exception": false,
     "start_time": "2022-07-20T23:44:10.243921",
     "status": "completed"
    },
    "tags": []
   },
   "outputs": [
    {
     "name": "stderr",
     "output_type": "stream",
     "text": [
      "2022-07-20 23:44:10.295765: I tensorflow/core/common_runtime/process_util.cc:146] Creating new thread pool with default inter op setting: 2. Tune using inter_op_parallelism_threads for best performance.\n",
      "2022-07-20 23:44:10.500747: I tensorflow/compiler/mlir/mlir_graph_optimization_pass.cc:185] None of the MLIR Optimization Passes are enabled (registered 2)\n"
     ]
    },
    {
     "name": "stdout",
     "output_type": "stream",
     "text": [
      "Epoch 1/32\n",
      "\n",
      "Epoch 00001: LearningRateScheduler setting learning rate to 0.009999999776482582.\n",
      "16/16 [==============================] - 1s 20ms/step - loss: 1.5417 - accuracy: 0.4669 - val_loss: 0.5850 - val_accuracy: 0.7049\n",
      "Epoch 2/32\n",
      "\n",
      "Epoch 00002: LearningRateScheduler setting learning rate to 0.009999999776482582.\n",
      "16/16 [==============================] - 0s 5ms/step - loss: 0.8491 - accuracy: 0.8058 - val_loss: 0.9444 - val_accuracy: 0.8033\n",
      "Epoch 3/32\n",
      "\n",
      "Epoch 00003: LearningRateScheduler setting learning rate to 0.009999999776482582.\n",
      "16/16 [==============================] - 0s 5ms/step - loss: 0.6596 - accuracy: 0.7727 - val_loss: 0.5353 - val_accuracy: 0.7213\n",
      "Epoch 4/32\n",
      "\n",
      "Epoch 00004: LearningRateScheduler setting learning rate to 0.009999999776482582.\n",
      "16/16 [==============================] - 0s 5ms/step - loss: 0.4883 - accuracy: 0.7769 - val_loss: 0.4904 - val_accuracy: 0.7869\n",
      "Epoch 5/32\n",
      "\n",
      "Epoch 00005: LearningRateScheduler setting learning rate to 0.009999999776482582.\n",
      "16/16 [==============================] - 0s 5ms/step - loss: 0.4238 - accuracy: 0.7893 - val_loss: 0.4963 - val_accuracy: 0.8197\n",
      "Epoch 6/32\n",
      "\n",
      "Epoch 00006: LearningRateScheduler setting learning rate to 0.009999999776482582.\n",
      "16/16 [==============================] - 0s 5ms/step - loss: 0.3941 - accuracy: 0.8264 - val_loss: 0.7213 - val_accuracy: 0.8197\n",
      "Epoch 7/32\n",
      "\n",
      "Epoch 00007: LearningRateScheduler setting learning rate to 0.009999999776482582.\n",
      "16/16 [==============================] - 0s 5ms/step - loss: 0.3791 - accuracy: 0.8306 - val_loss: 0.7369 - val_accuracy: 0.7705\n",
      "Epoch 8/32\n",
      "\n",
      "Epoch 00008: LearningRateScheduler setting learning rate to 0.009999999776482582.\n",
      "16/16 [==============================] - 0s 5ms/step - loss: 0.4070 - accuracy: 0.8430 - val_loss: 0.8809 - val_accuracy: 0.7705\n",
      "Epoch 9/32\n",
      "\n",
      "Epoch 00009: LearningRateScheduler setting learning rate to 0.009999999776482582.\n",
      "16/16 [==============================] - 0s 5ms/step - loss: 0.3875 - accuracy: 0.8554 - val_loss: 0.8898 - val_accuracy: 0.7705\n",
      "Epoch 10/32\n",
      "\n",
      "Epoch 00010: LearningRateScheduler setting learning rate to 0.009999999776482582.\n",
      "16/16 [==============================] - 0s 5ms/step - loss: 0.3709 - accuracy: 0.8678 - val_loss: 0.6978 - val_accuracy: 0.7049\n",
      "Epoch 11/32\n",
      "\n",
      "Epoch 00011: LearningRateScheduler setting learning rate to tf.Tensor(0.009048374, shape=(), dtype=float32).\n",
      "16/16 [==============================] - 0s 5ms/step - loss: 0.3665 - accuracy: 0.8512 - val_loss: 0.8543 - val_accuracy: 0.7541\n",
      "Epoch 12/32\n",
      "\n",
      "Epoch 00012: LearningRateScheduler setting learning rate to tf.Tensor(0.008187308, shape=(), dtype=float32).\n",
      "16/16 [==============================] - 0s 5ms/step - loss: 0.3439 - accuracy: 0.8636 - val_loss: 0.8747 - val_accuracy: 0.7541\n",
      "Epoch 13/32\n",
      "\n",
      "Epoch 00013: LearningRateScheduler setting learning rate to tf.Tensor(0.0074081826, shape=(), dtype=float32).\n",
      "16/16 [==============================] - 0s 5ms/step - loss: 0.3442 - accuracy: 0.8636 - val_loss: 0.8946 - val_accuracy: 0.7705\n",
      "Epoch 14/32\n",
      "\n",
      "Epoch 00014: LearningRateScheduler setting learning rate to tf.Tensor(0.0067032008, shape=(), dtype=float32).\n",
      "16/16 [==============================] - 0s 5ms/step - loss: 0.3222 - accuracy: 0.8802 - val_loss: 0.9019 - val_accuracy: 0.7541\n",
      "Epoch 15/32\n",
      "\n",
      "Epoch 00015: LearningRateScheduler setting learning rate to tf.Tensor(0.0060653067, shape=(), dtype=float32).\n",
      "16/16 [==============================] - 0s 5ms/step - loss: 0.3061 - accuracy: 0.8760 - val_loss: 0.8794 - val_accuracy: 0.7705\n",
      "Epoch 16/32\n",
      "\n",
      "Epoch 00016: LearningRateScheduler setting learning rate to tf.Tensor(0.0054881168, shape=(), dtype=float32).\n",
      "16/16 [==============================] - 0s 5ms/step - loss: 0.3271 - accuracy: 0.8760 - val_loss: 0.7969 - val_accuracy: 0.6885\n",
      "Epoch 17/32\n",
      "\n",
      "Epoch 00017: LearningRateScheduler setting learning rate to tf.Tensor(0.0049658534, shape=(), dtype=float32).\n",
      "16/16 [==============================] - 0s 6ms/step - loss: 0.4277 - accuracy: 0.8140 - val_loss: 0.7751 - val_accuracy: 0.6721\n",
      "Epoch 18/32\n",
      "\n",
      "Epoch 00018: LearningRateScheduler setting learning rate to tf.Tensor(0.00449329, shape=(), dtype=float32).\n",
      "16/16 [==============================] - 0s 6ms/step - loss: 0.3619 - accuracy: 0.8347 - val_loss: 0.9681 - val_accuracy: 0.6885\n",
      "Epoch 19/32\n",
      "\n",
      "Epoch 00019: LearningRateScheduler setting learning rate to tf.Tensor(0.004065697, shape=(), dtype=float32).\n",
      "16/16 [==============================] - 0s 5ms/step - loss: 0.3326 - accuracy: 0.8678 - val_loss: 1.1445 - val_accuracy: 0.7541\n",
      "Epoch 20/32\n",
      "\n",
      "Epoch 00020: LearningRateScheduler setting learning rate to tf.Tensor(0.003678795, shape=(), dtype=float32).\n",
      "16/16 [==============================] - 0s 5ms/step - loss: 0.3210 - accuracy: 0.8636 - val_loss: 1.1143 - val_accuracy: 0.7541\n",
      "Epoch 21/32\n",
      "\n",
      "Epoch 00021: LearningRateScheduler setting learning rate to tf.Tensor(0.0033287113, shape=(), dtype=float32).\n",
      "16/16 [==============================] - 0s 5ms/step - loss: 0.3073 - accuracy: 0.8719 - val_loss: 1.1241 - val_accuracy: 0.7541\n",
      "Epoch 22/32\n",
      "\n",
      "Epoch 00022: LearningRateScheduler setting learning rate to tf.Tensor(0.0030119426, shape=(), dtype=float32).\n",
      "16/16 [==============================] - 0s 5ms/step - loss: 0.3004 - accuracy: 0.8843 - val_loss: 1.1216 - val_accuracy: 0.7541\n",
      "Epoch 23/32\n",
      "\n",
      "Epoch 00023: LearningRateScheduler setting learning rate to tf.Tensor(0.0027253183, shape=(), dtype=float32).\n",
      "16/16 [==============================] - 0s 5ms/step - loss: 0.2955 - accuracy: 0.8802 - val_loss: 1.1277 - val_accuracy: 0.7541\n",
      "Epoch 24/32\n",
      "\n",
      "Epoch 00024: LearningRateScheduler setting learning rate to tf.Tensor(0.00246597, shape=(), dtype=float32).\n",
      "16/16 [==============================] - 0s 6ms/step - loss: 0.2917 - accuracy: 0.8843 - val_loss: 1.1282 - val_accuracy: 0.7541\n",
      "Epoch 25/32\n",
      "\n",
      "Epoch 00025: LearningRateScheduler setting learning rate to tf.Tensor(0.002231302, shape=(), dtype=float32).\n",
      "16/16 [==============================] - 0s 5ms/step - loss: 0.2896 - accuracy: 0.8843 - val_loss: 1.1297 - val_accuracy: 0.7541\n",
      "Epoch 26/32\n",
      "\n",
      "Epoch 00026: LearningRateScheduler setting learning rate to tf.Tensor(0.0020189655, shape=(), dtype=float32).\n",
      "16/16 [==============================] - 0s 4ms/step - loss: 0.2850 - accuracy: 0.8926 - val_loss: 1.1300 - val_accuracy: 0.7541\n",
      "Epoch 27/32\n",
      "\n",
      "Epoch 00027: LearningRateScheduler setting learning rate to tf.Tensor(0.0018268356, shape=(), dtype=float32).\n",
      "16/16 [==============================] - 0s 5ms/step - loss: 0.2804 - accuracy: 0.8926 - val_loss: 1.1236 - val_accuracy: 0.7541\n",
      "Epoch 28/32\n",
      "\n",
      "Epoch 00028: LearningRateScheduler setting learning rate to tf.Tensor(0.0016529892, shape=(), dtype=float32).\n",
      "16/16 [==============================] - 0s 5ms/step - loss: 0.2780 - accuracy: 0.8926 - val_loss: 1.1265 - val_accuracy: 0.7541\n",
      "Epoch 29/32\n",
      "\n",
      "Epoch 00029: LearningRateScheduler setting learning rate to tf.Tensor(0.0014956865, shape=(), dtype=float32).\n",
      "16/16 [==============================] - 0s 5ms/step - loss: 0.2767 - accuracy: 0.8967 - val_loss: 0.9466 - val_accuracy: 0.7541\n",
      "Epoch 30/32\n",
      "\n",
      "Epoch 00030: LearningRateScheduler setting learning rate to tf.Tensor(0.0013533531, shape=(), dtype=float32).\n",
      "16/16 [==============================] - 0s 5ms/step - loss: 0.2740 - accuracy: 0.8967 - val_loss: 1.1163 - val_accuracy: 0.7541\n",
      "Epoch 31/32\n",
      "\n",
      "Epoch 00031: LearningRateScheduler setting learning rate to tf.Tensor(0.0012245646, shape=(), dtype=float32).\n",
      "16/16 [==============================] - 0s 5ms/step - loss: 0.2729 - accuracy: 0.9008 - val_loss: 1.1171 - val_accuracy: 0.7541\n",
      "Epoch 32/32\n",
      "\n",
      "Epoch 00032: LearningRateScheduler setting learning rate to tf.Tensor(0.001108032, shape=(), dtype=float32).\n",
      "16/16 [==============================] - 0s 5ms/step - loss: 0.2724 - accuracy: 0.8967 - val_loss: 0.9539 - val_accuracy: 0.7541\n"
     ]
    },
    {
     "data": {
      "image/png": "[encoded data removed]",
      "text/plain": [
       "<Figure size 864x432 with 2 Axes>"
      ]
     },
     "metadata": {
      "needs_background": "dark"
     },
     "output_type": "display_data"
    },
    {
     "name": "stdout",
     "output_type": "stream",
     "text": [
      "CPU times: user 4.3 s, sys: 697 ms, total: 4.99 s\n",
      "Wall time: 4.46 s\n"
     ]
    }
   ],
   "source": [
    "%%time\n",
    "classifier = tf.keras.Sequential()\n",
    "tf.compat.v1.reset_default_graph()\n",
    "tf.random.set_seed(0)\n",
    "random.seed(0)\n",
    "np.random.seed(0)\n",
    "initializer = tf.keras.initializers.RandomNormal(mean=0., stddev=1.)\n",
    "\n",
    "# Adding the input layer and the first hidden layer\n",
    "classifier.add(Dense(units = 8, kernel_initializer = 'uniform' , activation = 'relu', input_dim = X_train.shape[1])) \n",
    "classifier.add(Dense(units = 16, kernel_initializer = 'uniform', activation = 'relu'))\n",
    "classifier.add(Dense(units = 32, kernel_initializer = 'uniform', activation = 'relu'))\n",
    "classifier.add(Dense(units = 1, kernel_initializer = 'uniform', activation = 'relu'))\n",
    "\n",
    "# Compiling the ANN \n",
    "classifier.compile(optimizer = tf.keras.optimizers.Adam(learning_rate=0.01),\n",
    "                   loss = 'binary_crossentropy', \n",
    "                   metrics = ['accuracy'])\n",
    "\n",
    "# Fitting the ANN to the Training set\n",
    "\n",
    "r = classifier.fit(X_train, y_train,\n",
    "                   validation_data=(X_test,y_test),\n",
    "                   callbacks=[callbacks.EarlyStopping(min_delta=0.0001,patience=40,restore_best_weights=True),\n",
    "                             tf.keras.callbacks.LearningRateScheduler(scheduler, verbose=1)],\n",
    "                   batch_size=16,\n",
    "                   epochs=32)\n",
    "\n",
    "acc = r.history['accuracy']\n",
    "val_acc = r.history['val_accuracy']\n",
    "loss = r.history['loss']\n",
    "val_loss = r.history['val_loss']\n",
    "\n",
    "plt.figure(figsize=(12, 6))\n",
    "plt.style.use('cyberpunk')\n",
    "plt.subplot(1, 2, 1)\n",
    "plt.plot(acc, label='Training Acc')\n",
    "plt.plot(val_acc, label='Validation Acc')\n",
    "plt.title('Training And Validation Acc')\n",
    "plt.legend()\n",
    "mplcyberpunk.add_glow_effects()\n",
    "\n",
    "\n",
    "plt.subplot(1, 2, 2)\n",
    "plt.plot(loss, label='Training Loss')\n",
    "plt.plot(val_loss, label='Validation Loss')\n",
    "plt.title('Training And Validation Loss')\n",
    "plt.legend()\n",
    "mplcyberpunk.add_glow_effects()\n",
    "plt.show()"
   ]
  },
  {
   "cell_type": "code",
   "execution_count": 7,
   "id": "33c665cd",
   "metadata": {
    "execution": {
     "iopub.execute_input": "2022-07-20T23:44:14.765488Z",
     "iopub.status.busy": "2022-07-20T23:44:14.764494Z",
     "iopub.status.idle": "2022-07-20T23:44:14.989344Z",
     "shell.execute_reply": "2022-07-20T23:44:14.987440Z"
    },
    "papermill": {
     "duration": 0.239468,
     "end_time": "2022-07-20T23:44:14.992122",
     "exception": false,
     "start_time": "2022-07-20T23:44:14.752654",
     "status": "completed"
    },
    "tags": []
   },
   "outputs": [
    {
     "name": "stdout",
     "output_type": "stream",
     "text": [
      "Train Accuracy score: 0.90\n",
      "Train ROC AUC score: 0.90\n",
      "Test Accuracy score: 0.75\n",
      "Test ROC-AUC score: 0.746\n",
      "[[18 10]\n",
      " [ 5 28]]\n",
      "              precision    recall  f1-score   support\n",
      "\n",
      "           0       0.78      0.64      0.71        28\n",
      "           1       0.74      0.85      0.79        33\n",
      "\n",
      "    accuracy                           0.75        61\n",
      "   macro avg       0.76      0.75      0.75        61\n",
      "weighted avg       0.76      0.75      0.75        61\n",
      "\n"
     ]
    }
   ],
   "source": [
    "y_pred_tr = [1 if each >= 0.5 else 0 for each in classifier.predict(X_train)]\n",
    "y_pred_ts = [1 if each >= 0.5 else 0 for each in classifier.predict(X_test)]\n",
    "# \n",
    "print('Train Accuracy score: {0:0.2f}'.format(accuracy_score(y_train, y_pred_tr)))\n",
    "print('Train ROC AUC score: {0:0.2f}'.format(roc_auc_score(y_train, y_pred_tr)))\n",
    "print('Test Accuracy score: {0:0.2f}'.format(accuracy_score(y_test, y_pred_ts)))\n",
    "print('Test ROC-AUC score: {0:0.3f}'.format(roc_auc_score(y_test, y_pred_ts)))\n",
    "print(confusion_matrix(y_test,y_pred_ts))\n",
    "print(classification_report(y_test,y_pred_ts))"
   ]
  },
  {
   "cell_type": "markdown",
   "id": "67d2a262",
   "metadata": {
    "papermill": {
     "duration": 0.011124,
     "end_time": "2022-07-20T23:44:15.014399",
     "exception": false,
     "start_time": "2022-07-20T23:44:15.003275",
     "status": "completed"
    },
    "tags": []
   },
   "source": [
    "### Step by step genetic algorithm with PyGAD"
   ]
  },
  {
   "cell_type": "code",
   "execution_count": 8,
   "id": "11b8e3a8",
   "metadata": {
    "execution": {
     "iopub.execute_input": "2022-07-20T23:44:15.038691Z",
     "iopub.status.busy": "2022-07-20T23:44:15.037636Z",
     "iopub.status.idle": "2022-07-20T23:44:15.043417Z",
     "shell.execute_reply": "2022-07-20T23:44:15.042204Z"
    },
    "papermill": {
     "duration": 0.020626,
     "end_time": "2022-07-20T23:44:15.046022",
     "exception": false,
     "start_time": "2022-07-20T23:44:15.025396",
     "status": "completed"
    },
    "tags": []
   },
   "outputs": [],
   "source": [
    "# Inputs\n",
    "\n",
    "array_X = X_train#.values (Scaler function return np array and pygad working with np.array)\n",
    "array_y = y_train.values"
   ]
  },
  {
   "cell_type": "code",
   "execution_count": 9,
   "id": "b98dfa7d",
   "metadata": {
    "execution": {
     "iopub.execute_input": "2022-07-20T23:44:15.069216Z",
     "iopub.status.busy": "2022-07-20T23:44:15.068755Z",
     "iopub.status.idle": "2022-07-20T23:44:15.075978Z",
     "shell.execute_reply": "2022-07-20T23:44:15.074436Z"
    },
    "papermill": {
     "duration": 0.022616,
     "end_time": "2022-07-20T23:44:15.078818",
     "exception": false,
     "start_time": "2022-07-20T23:44:15.056202",
     "status": "completed"
    },
    "tags": []
   },
   "outputs": [],
   "source": [
    "# Fitness function ``\n",
    "\n",
    "def fitness_func(solution, sol_idx):\n",
    "    global GANN_instance, data_inputs, data_outputs\n",
    "\n",
    "    predictions = pygad.nn.predict(last_layer=GANN_instance.population_networks[sol_idx],\n",
    "                                   data_inputs=data_inputs)\n",
    "    correct_predictions = numpy.where(predictions == data_outputs)[0].size\n",
    "    solution_fitness = (correct_predictions/data_outputs.size)*100\n",
    "\n",
    "    return solution_fitness"
   ]
  },
  {
   "cell_type": "code",
   "execution_count": 10,
   "id": "8a35ce20",
   "metadata": {
    "execution": {
     "iopub.execute_input": "2022-07-20T23:44:15.101566Z",
     "iopub.status.busy": "2022-07-20T23:44:15.101156Z",
     "iopub.status.idle": "2022-07-20T23:44:15.109434Z",
     "shell.execute_reply": "2022-07-20T23:44:15.108397Z"
    },
    "papermill": {
     "duration": 0.022357,
     "end_time": "2022-07-20T23:44:15.111632",
     "exception": false,
     "start_time": "2022-07-20T23:44:15.089275",
     "status": "completed"
    },
    "tags": []
   },
   "outputs": [],
   "source": [
    "def callback_generation(ga_instance):\n",
    "    global GANN_instance, last_fitness\n",
    "\n",
    "    population_matrices = pygad.gann.population_as_matrices(population_networks=GANN_instance.population_networks,\n",
    "                                                            population_vectors=ga_instance.population)\n",
    "\n",
    "    GANN_instance.update_population_trained_weights(population_trained_weights=population_matrices)\n",
    "    if ga_instance.generations_completed % verbose == 0:\n",
    "        print(\"Generation = {generation}\".format(generation=ga_instance.generations_completed))\n",
    "        print(\"Fitness    = {fitness}\".format(fitness=ga_instance.best_solution()[1]))\n",
    "        print(\"Change     = {change}\".format(change=ga_instance.best_solution()[1] - last_fitness))\n",
    "\n",
    "    last_fitness = ga_instance.best_solution()[1].copy()"
   ]
  },
  {
   "cell_type": "code",
   "execution_count": 11,
   "id": "b2b5a1c5",
   "metadata": {
    "execution": {
     "iopub.execute_input": "2022-07-20T23:44:15.134078Z",
     "iopub.status.busy": "2022-07-20T23:44:15.133668Z",
     "iopub.status.idle": "2022-07-20T23:46:52.855367Z",
     "shell.execute_reply": "2022-07-20T23:46:52.853271Z"
    },
    "papermill": {
     "duration": 157.736751,
     "end_time": "2022-07-20T23:46:52.858531",
     "exception": false,
     "start_time": "2022-07-20T23:44:15.121780",
     "status": "completed"
    },
    "tags": []
   },
   "outputs": [
    {
     "name": "stdout",
     "output_type": "stream",
     "text": [
      "Generation = 100\n",
      "Fitness    = 85.53719008264463\n",
      "Change     = -0.8264462809917319\n",
      "Generation = 200\n",
      "Fitness    = 87.60330578512396\n",
      "Change     = 0.41322314049587305\n",
      "Generation = 300\n",
      "Fitness    = 88.42975206611571\n",
      "Change     = 0.0\n"
     ]
    },
    {
     "name": "stderr",
     "output_type": "stream",
     "text": [
      "/opt/conda/lib/python3.7/site-packages/pygad/nn/nn.py:156: RuntimeWarning: overflow encountered in exp\n",
      "  return 1.0 / (1 + numpy.exp(-1 * sop))\n"
     ]
    },
    {
     "name": "stdout",
     "output_type": "stream",
     "text": [
      "Generation = 400\n",
      "Fitness    = 90.08264462809917\n",
      "Change     = 0.0\n",
      "Generation = 500\n",
      "Fitness    = 90.9090909090909\n",
      "Change     = 0.0\n",
      "Generation = 600\n",
      "Fitness    = 90.49586776859503\n",
      "Change     = 0.41322314049585884\n",
      "Generation = 700\n",
      "Fitness    = 90.49586776859503\n",
      "Change     = 0.0\n",
      "Generation = 800\n",
      "Fitness    = 90.49586776859503\n",
      "Change     = 0.0\n",
      "Generation = 900\n",
      "Fitness    = 91.73553719008265\n",
      "Change     = 0.0\n",
      "Generation = 1000\n",
      "Fitness    = 91.32231404958677\n",
      "Change     = 0.0\n"
     ]
    },
    {
     "data": {
      "image/png": "[encoded data removed]",
      "text/plain": [
       "<Figure size 432x288 with 1 Axes>"
      ]
     },
     "metadata": {},
     "output_type": "display_data"
    },
    {
     "name": "stdout",
     "output_type": "stream",
     "text": [
      "Fitness value of the best solution = 91.32231404958677\n",
      "Index of the best solution : 1\n",
      "Best fitness value reached after 470 generations.\n"
     ]
    }
   ],
   "source": [
    "data_inputs = array_X\n",
    "data_outputs = array_y\n",
    "num_inputs = data_inputs.shape[1]\n",
    "num_classes = 2\n",
    "num_solutions = 16\n",
    "num_parents_mating = 4\n",
    "num_generations = 1000\n",
    "last_fitness = 0\n",
    "mutation_percent_genes = 10 \n",
    "parent_selection_type = \"tournament\"\n",
    "K_tournament=4\n",
    "keep_parents = -1\n",
    "crossover_type = \"uniform\"\n",
    "crossover_probability= 1 \n",
    "mutation_percent_genes = 10 \n",
    "mutation_type = \"random\"\n",
    "verbose = 100\n",
    "\n",
    "GANN_instance = pygad.gann.GANN(num_solutions=num_solutions,\n",
    "                                num_neurons_input=num_inputs,\n",
    "                                num_neurons_hidden_layers=[8,16],\n",
    "                                num_neurons_output=num_classes,\n",
    "                                hidden_activations=[\"relu\", \"relu\"],\n",
    "                                output_activation=\"sigmoid\")\n",
    "\n",
    "population_vectors = pygad.gann.population_as_vectors(population_networks=GANN_instance.population_networks)\n",
    "initial_population = population_vectors.copy()\n",
    "\n",
    "ga_instance = pygad.GA(num_generations=num_generations,\n",
    "                       num_parents_mating=num_parents_mating,\n",
    "                       initial_population=initial_population,\n",
    "                       fitness_func=fitness_func,\n",
    "                       K_tournament=K_tournament,\n",
    "                       parent_selection_type=parent_selection_type,\n",
    "                       crossover_probability=crossover_probability,\n",
    "                       crossover_type=crossover_type,\n",
    "                       mutation_type=mutation_type,\n",
    "                       keep_parents=keep_parents,\n",
    "                       on_generation=callback_generation)\n",
    "\n",
    "ga_instance.run()\n",
    "ga_instance.plot_fitness()\n",
    "solution, solution_fitness, solution_idx = ga_instance.best_solution()\n",
    "print(\"Fitness value of the best solution = {solution_fitness}\".format(solution_fitness=solution_fitness))\n",
    "print(\"Index of the best solution : {solution_idx}\".format(solution_idx=solution_idx))\n",
    "\n",
    "if ga_instance.best_solution_generation != -1:\n",
    "    print(\"Best fitness value reached after {best_solution_generation} generations.\".format(best_solution_generation=ga_instance.best_solution_generation))"
   ]
  },
  {
   "cell_type": "code",
   "execution_count": 12,
   "id": "18d70287",
   "metadata": {
    "execution": {
     "iopub.execute_input": "2022-07-20T23:46:52.883868Z",
     "iopub.status.busy": "2022-07-20T23:46:52.883470Z",
     "iopub.status.idle": "2022-07-20T23:46:52.900957Z",
     "shell.execute_reply": "2022-07-20T23:46:52.899666Z"
    },
    "papermill": {
     "duration": 0.034343,
     "end_time": "2022-07-20T23:46:52.904148",
     "exception": false,
     "start_time": "2022-07-20T23:46:52.869805",
     "status": "completed"
    },
    "tags": []
   },
   "outputs": [
    {
     "name": "stdout",
     "output_type": "stream",
     "text": [
      "Number of correct classifications : 221.\n",
      "Number of wrong classifications : 21.\n",
      "Classification accuracy : 91.32231404958677.\n"
     ]
    }
   ],
   "source": [
    "predictions = pygad.nn.predict(last_layer=GANN_instance.population_networks[solution_idx],\n",
    "                               data_inputs=data_inputs)\n",
    "\n",
    "# Calculating some statistics\n",
    "num_wrong = numpy.where(predictions != data_outputs)[0]\n",
    "num_correct = data_outputs.size - num_wrong.size\n",
    "accuracy = 100 * (num_correct/data_outputs.size)\n",
    "print(\"Number of correct classifications : {num_correct}.\".format(num_correct=num_correct))\n",
    "print(\"Number of wrong classifications : {num_wrong}.\".format(num_wrong=num_wrong.size))\n",
    "print(\"Classification accuracy : {accuracy}.\".format(accuracy=accuracy))"
   ]
  },
  {
   "cell_type": "code",
   "execution_count": 13,
   "id": "837bf2a6",
   "metadata": {
    "execution": {
     "iopub.execute_input": "2022-07-20T23:46:52.928788Z",
     "iopub.status.busy": "2022-07-20T23:46:52.927958Z",
     "iopub.status.idle": "2022-07-20T23:46:52.953875Z",
     "shell.execute_reply": "2022-07-20T23:46:52.952101Z"
    },
    "papermill": {
     "duration": 0.04235,
     "end_time": "2022-07-20T23:46:52.957411",
     "exception": false,
     "start_time": "2022-07-20T23:46:52.915061",
     "status": "completed"
    },
    "tags": []
   },
   "outputs": [
    {
     "name": "stdout",
     "output_type": "stream",
     "text": [
      "Train Accuracy score: 0.9132\n",
      "Train ROC AUC score: 0.9121\n",
      "Test Accuracy score: 0.8197\n",
      "Test ROC-AUC score: 0.8171\n",
      "[[22  6]\n",
      " [ 5 28]]\n",
      "              precision    recall  f1-score   support\n",
      "\n",
      "           0       0.81      0.79      0.80        28\n",
      "           1       0.82      0.85      0.84        33\n",
      "\n",
      "    accuracy                           0.82        61\n",
      "   macro avg       0.82      0.82      0.82        61\n",
      "weighted avg       0.82      0.82      0.82        61\n",
      "\n"
     ]
    }
   ],
   "source": [
    "y_pred_tr = pygad.nn.predict(last_layer=GANN_instance.population_networks[solution_idx],\n",
    "                               data_inputs=X_train)\n",
    "y_pred_ts = pygad.nn.predict(last_layer=GANN_instance.population_networks[solution_idx],\n",
    "                               data_inputs=X_test)\n",
    "\n",
    "\n",
    "print('Train Accuracy score: {0:0.4f}'.format(accuracy_score(y_train, y_pred_tr)))\n",
    "print('Train ROC AUC score: {0:0.4f}'.format(roc_auc_score(y_train, y_pred_tr)))\n",
    "print('Test Accuracy score: {0:0.4f}'.format(accuracy_score(y_test, y_pred_ts)))\n",
    "print('Test ROC-AUC score: {0:0.4f}'.format(roc_auc_score(y_test, y_pred_ts)))\n",
    "print(confusion_matrix(y_test,y_pred_ts))\n",
    "print(classification_report(y_test,y_pred_ts))"
   ]
  },
  {
   "cell_type": "markdown",
   "id": "0aa06a17",
   "metadata": {
    "papermill": {
     "duration": 0.011484,
     "end_time": "2022-07-20T23:46:52.980577",
     "exception": false,
     "start_time": "2022-07-20T23:46:52.969093",
     "status": "completed"
    },
    "tags": []
   },
   "source": [
    "## Keras Results:\n",
    "* Train Accuracy score: 0.90\n",
    "* Train ROC AUC score: 0.90\n",
    "* Test Accuracy score: 0.75\n",
    "* Test ROC-AUC score: 0.746\n",
    "\n",
    "## PyGAD Results:\n",
    "* Train Accuracy score: 0.9174\n",
    "* Train ROC AUC score: 0.9159\n",
    "* Test Accuracy score: 0.8361\n",
    "* Test ROC-AUC score: 0.8295\n",
    "\n",
    "\n",
    "* What can I do for better resullt?\n",
    "* To do more optimise parameters :D\n",
    "### My primary goal in this notebook, is we have a lot of algorithms for solutions, just know what you are searching for.\n",
    "\n",
    "## Keep contact\n",
    "\n",
    "![](https://sp-ao.shortpixel.ai/client/to_webp,q_glossy,ret_img,w_860,h_460/https://sciencemystic.com/wp-content/uploads/2021/09/Genetic-Algorithms.jpg)"
   ]
  }
 ],
 "metadata": {
  "kernelspec": {
   "display_name": "Python 3",
   "language": "python",
   "name": "python3"
  },
  "language_info": {
   "codemirror_mode": {
    "name": "ipython",
    "version": 3
   },
   "file_extension": ".py",
   "mimetype": "text/x-python",
   "name": "python",
   "nbconvert_exporter": "python",
   "pygments_lexer": "ipython3",
   "version": "3.7.12"
  },
  "papermill": {
   "default_parameters": {},
   "duration": 209.837389,
   "end_time": "2022-07-20T23:46:56.571410",
   "environment_variables": {},
   "exception": null,
   "input_path": "__notebook__.ipynb",
   "output_path": "__notebook__.ipynb",
   "parameters": {},
   "start_time": "2022-07-20T23:43:26.734021",
   "version": "2.3.4"
  }
 },
 "nbformat": 4,
 "nbformat_minor": 5
}
